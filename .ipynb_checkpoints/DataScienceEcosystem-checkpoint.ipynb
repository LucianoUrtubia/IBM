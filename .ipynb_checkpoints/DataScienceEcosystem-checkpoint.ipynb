{
 "cells": [
  {
   "cell_type": "markdown",
   "id": "a8a87bf1-6189-458a-a884-dc23ce3dac17",
   "metadata": {},
   "source": [
    "# Data Science Tools and Ecosystem #"
   ]
  },
  {
   "cell_type": "markdown",
   "id": "cca6d174-9018-4a95-af67-9d168d00fe74",
   "metadata": {},
   "source": [
    "## In this notebook, Data Science Tools and Ecosystem are summarized ##"
   ]
  },
  {
   "cell_type": "markdown",
   "id": "903fdc6b-69ba-43c6-b67c-078a5ce33757",
   "metadata": {},
   "source": [
    "### Some of the popular languages that Data Scientists use are: ###\n",
    "1. R\n",
    "2. Phython\n",
    "3. SQL\n",
    "4. Julia"
   ]
  },
  {
   "cell_type": "markdown",
   "id": "5c92bdb1-eff9-47b4-b6a3-17c91f6ac976",
   "metadata": {},
   "source": [
    "### Some of the commonly used libraries used by Data Scientists include: ###"
   ]
  },
  {
   "cell_type": "markdown",
   "id": "b796933f-42a3-47f0-8c6b-a789974fa611",
   "metadata": {},
   "source": [
    "1. Pandas\n",
    "2. Keras\n",
    "3. Numpy\n",
    "4. Scikit-learn."
   ]
  },
  {
   "cell_type": "markdown",
   "id": "af7155d1-50e7-4b72-83b9-9e452367ca9b",
   "metadata": {},
   "source": [
    "### Data Science Tools ###"
   ]
  },
  {
   "cell_type": "code",
   "execution_count": 2,
   "id": "00457cc2-c973-47ff-b21f-e22e81815840",
   "metadata": {},
   "outputs": [],
   "source": [
    "import pandas as pd"
   ]
  },
  {
   "cell_type": "code",
   "execution_count": 3,
   "id": "fc72fdba-b7c9-4bd8-a804-ff1468b79f4e",
   "metadata": {},
   "outputs": [],
   "source": [
    "data = { \"Data Science Tools\" : [\"MySQL\",\"AirFlow\",\"Kibana\"]}"
   ]
  },
  {
   "cell_type": "code",
   "execution_count": 4,
   "id": "f40b55d7-e881-48c0-ba0c-5aa614b45a41",
   "metadata": {},
   "outputs": [
    {
     "data": {
      "text/html": [
       "<div>\n",
       "<style scoped>\n",
       "    .dataframe tbody tr th:only-of-type {\n",
       "        vertical-align: middle;\n",
       "    }\n",
       "\n",
       "    .dataframe tbody tr th {\n",
       "        vertical-align: top;\n",
       "    }\n",
       "\n",
       "    .dataframe thead th {\n",
       "        text-align: right;\n",
       "    }\n",
       "</style>\n",
       "<table border=\"1\" class=\"dataframe\">\n",
       "  <thead>\n",
       "    <tr style=\"text-align: right;\">\n",
       "      <th></th>\n",
       "      <th>Data Science Tools</th>\n",
       "    </tr>\n",
       "  </thead>\n",
       "  <tbody>\n",
       "    <tr>\n",
       "      <th>0</th>\n",
       "      <td>MySQL</td>\n",
       "    </tr>\n",
       "    <tr>\n",
       "      <th>1</th>\n",
       "      <td>AirFlow</td>\n",
       "    </tr>\n",
       "    <tr>\n",
       "      <th>2</th>\n",
       "      <td>Kibana</td>\n",
       "    </tr>\n",
       "  </tbody>\n",
       "</table>\n",
       "</div>"
      ],
      "text/plain": [
       "  Data Science Tools\n",
       "0              MySQL\n",
       "1            AirFlow\n",
       "2             Kibana"
      ]
     },
     "execution_count": 4,
     "metadata": {},
     "output_type": "execute_result"
    }
   ],
   "source": [
    "pd.DataFrame(data)"
   ]
  },
  {
   "cell_type": "markdown",
   "id": "5cc7af59-47dc-46d3-a600-ab0b9617f3ac",
   "metadata": {},
   "source": [
    "### Below are a few examples of evaluating arithmetic expressions in Python ###"
   ]
  },
  {
   "cell_type": "markdown",
   "id": "3709d9dd-61be-4010-826c-727b55e0c6b2",
   "metadata": {},
   "source": [
    "#### This a simple arithmetic expression to mutiply then add integers ####"
   ]
  },
  {
   "cell_type": "code",
   "execution_count": 5,
   "id": "08a7569f-0408-4783-8a60-ebc7dcb6ab9d",
   "metadata": {
    "scrolled": true
   },
   "outputs": [
    {
     "data": {
      "text/plain": [
       "17"
      ]
     },
     "execution_count": 5,
     "metadata": {},
     "output_type": "execute_result"
    }
   ],
   "source": [
    "(3*4)+5"
   ]
  },
  {
   "cell_type": "markdown",
   "id": "0bc91dbc-c765-40c2-afa4-811f23c2e9e2",
   "metadata": {},
   "source": [
    "#### This will convert 200 minutes to hours by diving by 60 ####"
   ]
  },
  {
   "cell_type": "code",
   "execution_count": 6,
   "id": "f67b0ed4-0125-4fd9-898f-9994bf9a8e65",
   "metadata": {},
   "outputs": [
    {
     "data": {
      "text/plain": [
       "3.3333333333333335"
      ]
     },
     "execution_count": 6,
     "metadata": {},
     "output_type": "execute_result"
    }
   ],
   "source": [
    "200/60"
   ]
  },
  {
   "cell_type": "markdown",
   "id": "cb1584bd-e89c-440d-b2a7-00e57462aea1",
   "metadata": {},
   "source": [
    "**Objectives :**"
   ]
  },
  {
   "cell_type": "markdown",
   "id": "ccce06f5-9a83-40ad-88b7-d3af1b5d6713",
   "metadata": {},
   "source": [
    "* languages ​​in data science\n",
    "* data science libraries\n",
    "* open source tools\n",
    "* arithmetic expressions\n",
    "* basic use of JUPITER NOTEBOOK"
   ]
  },
  {
   "cell_type": "markdown",
   "id": "29dddf82-4533-440a-9ea4-646904d4d830",
   "metadata": {},
   "source": [
    "## Author ##"
   ]
  },
  {
   "cell_type": "markdown",
   "id": "5033bdbb-2a6e-4bb8-9c98-4f86bc528e21",
   "metadata": {},
   "source": [
    "### LUCIANO ENRIQUE URTUBIA YAÑEZ ###"
   ]
  },
  {
   "cell_type": "code",
   "execution_count": null,
   "id": "c558b05e-c150-4538-9acd-79a695e8725e",
   "metadata": {},
   "outputs": [],
   "source": []
  }
 ],
 "metadata": {
  "kernelspec": {
   "display_name": "Python 3 (ipykernel)",
   "language": "python",
   "name": "python3"
  },
  "language_info": {
   "codemirror_mode": {
    "name": "ipython",
    "version": 3
   },
   "file_extension": ".py",
   "mimetype": "text/x-python",
   "name": "python",
   "nbconvert_exporter": "python",
   "pygments_lexer": "ipython3",
   "version": "3.11.7"
  }
 },
 "nbformat": 4,
 "nbformat_minor": 5
}
